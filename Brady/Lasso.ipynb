{
 "cells": [
  {
   "cell_type": "code",
   "execution_count": 1,
   "metadata": {},
   "outputs": [
    {
     "data": {
      "text/plain": [
       "6-element Array{Int64,1}:\n",
       " 2\n",
       " 3\n",
       " 4\n",
       " 5\n",
       " 6\n",
       " 7"
      ]
     },
     "execution_count": 1,
     "metadata": {},
     "output_type": "execute_result"
    }
   ],
   "source": [
    "using Distributed\n",
    "\n",
    "addprocs(6)"
   ]
  },
  {
   "cell_type": "code",
   "execution_count": 13,
   "metadata": {},
   "outputs": [],
   "source": [
    "@everywhere using Lasso\n",
    "using NPZ\n",
    "@everywhere using Statistics\n",
    "using PyCall\n",
    "@everywhere using SparseArrays"
   ]
  },
  {
   "cell_type": "code",
   "execution_count": 14,
   "metadata": {},
   "outputs": [],
   "source": [
    "py\"\"\"\n",
    "import scipy.sparse as sp\n",
    "\n",
    "def spload(x):\n",
    "    return sp.load_npz(x)\n",
    "\"\"\""
   ]
  },
  {
   "cell_type": "code",
   "execution_count": 15,
   "metadata": {},
   "outputs": [
    {
     "data": {
      "text/plain": [
       "7646×20122 SparseMatrixCSC{Float64,Int64} with 34965654 stored entries:\n",
       "  [1   ,     1]  =  -5.19568\n",
       "  [2   ,     1]  =  -4.83212\n",
       "  [3   ,     1]  =  -4.46621\n",
       "  [4   ,     1]  =  -4.09542\n",
       "  [5   ,     1]  =  -3.71781\n",
       "  [6   ,     1]  =  -3.33932\n",
       "  [7   ,     1]  =  -2.94609\n",
       "  [8   ,     1]  =  -2.58125\n",
       "  [9   ,     1]  =  -2.19924\n",
       "  [10  ,     1]  =  -1.81655\n",
       "  [11  ,     1]  =  -1.40428\n",
       "  [12  ,     1]  =  -1.04932\n",
       "  ⋮\n",
       "  [7634, 20122]  =  -0.0377013\n",
       "  [7635, 20122]  =  -0.0565704\n",
       "  [7636, 20122]  =  -0.0702979\n",
       "  [7637, 20122]  =  -0.0555521\n",
       "  [7638, 20122]  =  -0.0547308\n",
       "  [7639, 20122]  =  -0.0672549\n",
       "  [7640, 20122]  =  -0.0348468\n",
       "  [7641, 20122]  =  -0.0510785\n",
       "  [7642, 20122]  =  -0.0623164\n",
       "  [7643, 20122]  =  -0.0498602\n",
       "  [7644, 20122]  =  -0.0626302\n",
       "  [7645, 20122]  =  -0.0332227\n",
       "  [7646, 20122]  =  -0.0332705"
      ]
     },
     "execution_count": 15,
     "metadata": {},
     "output_type": "execute_result"
    }
   ],
   "source": [
    "G = py\"spload\"(\"Data/Gcsc.npz\")\n",
    "G = SparseMatrixCSC(G.shape[1], G.shape[2], G.indptr .+ 1, G.indices .+ 1, G.data)"
   ]
  },
  {
   "cell_type": "code",
   "execution_count": 16,
   "metadata": {},
   "outputs": [],
   "source": [
    "@everywhere G = $G"
   ]
  },
  {
   "cell_type": "code",
   "execution_count": 17,
   "metadata": {},
   "outputs": [],
   "source": [
    "@everywhere function fit_model(G,dv,i)\n",
    "    dn = std(dv)\n",
    "    dv ./= dn\n",
    "    time = @elapsed path = fit(LassoPath, G, dv, λminratio = 1e-4, standardize=false, intercept=false) \n",
    "    λmin = path.λ[argmin(aicc(path))]\n",
    "    m = coef(path; select=MinAICc())\n",
    "    println(\"Fitted data $i at $(now()) in $time s on worker $(myid())\")\n",
    "    flush(stdout)\n",
    "    return Dict(\"i\"=>i,\"reg\"=>λmin, \"dn\"=>dn, \"m\"=>m)\n",
    "end"
   ]
  },
  {
   "cell_type": "code",
   "execution_count": 18,
   "metadata": {},
   "outputs": [],
   "source": [
    "d = npzread(\"Data/wvtdata.npy\")\n",
    "d = [(i, d[i,:]) for i = 1:size(d,1)];"
   ]
  },
  {
   "cell_type": "code",
   "execution_count": null,
   "metadata": {},
   "outputs": [],
   "source": [
    "results = pmap(x->fit_model(G, x[2], x[1]), d)"
   ]
  },
  {
   "cell_type": "code",
   "execution_count": null,
   "metadata": {},
   "outputs": [],
   "source": []
  }
 ],
 "metadata": {
  "@webio": {
   "lastCommId": null,
   "lastKernelId": null
  },
  "kernelspec": {
   "display_name": "Julia 1.3.1",
   "language": "julia",
   "name": "julia-1.3"
  },
  "language_info": {
   "file_extension": ".jl",
   "mimetype": "application/julia",
   "name": "julia",
   "version": "1.3.1"
  }
 },
 "nbformat": 4,
 "nbformat_minor": 2
}
